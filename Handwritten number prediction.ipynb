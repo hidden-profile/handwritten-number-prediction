{
 "cells": [
  {
   "cell_type": "markdown",
   "id": "a436d996",
   "metadata": {},
   "source": [
    "# classification using tensorflow and keras\n"
   ]
  },
  {
   "cell_type": "markdown",
   "id": "c3661038",
   "metadata": {},
   "source": [
    "predicting digit from handwritten data"
   ]
  },
  {
   "cell_type": "code",
   "execution_count": 1,
   "id": "44d54795",
   "metadata": {},
   "outputs": [],
   "source": [
    "#MNIST--->Modified National Institutes of Standard and Technology dataset\n"
   ]
  },
  {
   "cell_type": "code",
   "execution_count": 2,
   "id": "731a6ec3",
   "metadata": {},
   "outputs": [],
   "source": [
    "import tensorflow as tf\n",
    "import cv2\n",
    "#cv2 is a package which allows us to use image data for ML"
   ]
  },
  {
   "cell_type": "code",
   "execution_count": 7,
   "id": "59787951",
   "metadata": {},
   "outputs": [
    {
     "name": "stdout",
     "output_type": "stream",
     "text": [
      "<module 'keras.datasets.mnist' from 'C:\\\\Users\\\\DELL\\\\anaconda3\\\\lib\\\\site-packages\\\\keras\\\\datasets\\\\mnist\\\\__init__.py'>\n"
     ]
    }
   ],
   "source": [
    "mnist=tf.keras.datasets.mnist\n",
    "print(mnist)\n",
    "#we will use keras datasets package--->collection for large no of datasets store dataset in a variable\n"
   ]
  },
  {
   "cell_type": "code",
   "execution_count": 8,
   "id": "0dd469e4",
   "metadata": {},
   "outputs": [],
   "source": [
    "#load the dataset and perform train test split on it\n",
    "(xtrain,ytrain),(xtest,ytest)=mnist.load_data()# 80:20"
   ]
  },
  {
   "cell_type": "code",
   "execution_count": 11,
   "id": "019d9784",
   "metadata": {},
   "outputs": [],
   "source": [
    "#perform normalization on the data --->rescaling the data into values in the range 0,1 for all values\n",
    "xtrain=tf.keras.utils.normalize(xtrain,axis=1)\n",
    "xtest=tf.keras.utils.normalize(xtest,axis=1)"
   ]
  },
  {
   "cell_type": "code",
   "execution_count": 12,
   "id": "243d23b2",
   "metadata": {},
   "outputs": [],
   "source": [
    "model=tf.keras.models.Sequential()#instatiating a sequential model\n",
    "#it is used for plain stack of layers each layer has one input tensor and one outpu tensor\n",
    "#here we are checking hand written numbers where there is a plain background and on it there is a layer of data so we use sequential model\n",
    "#it is similar to model=tree.DecisionTreeClassifier() byt here it is in tensorflo package\n",
    "model.add(tf.keras.layers.Flatten())\n",
    "model.add(tf.keras.layers.Dense(128,activation=tf.nn.relu))#these three lines related to neural networks nn-->neural networks\n",
    "#tf.nn activation function used to compute weighted sum of inputs\n",
    "#introducing non  linearity into the model \n",
    "#reason to use this-->enabling the model to learn more complicated patterns from the data provided \n",
    "#relu tries to laern and use 128 features/neurons from given data\n",
    "\n",
    "model.add(tf.keras.layers.Dense(128,activation=tf.nn.relu))\n",
    "model.add(tf.keras.layers.Dense(10,activation=tf.nn.softmax))\n",
    "#these three lines creates a layer where every input connected to every output in a certain weight 128 units/neurons\n",
    "#data divided into neurons can keep more or low based on our wish\n",
    "\n",
    "model.compile(optimizer='adam',loss='sparse_categorical_crossentropy',metrics=['accuracy'])"
   ]
  },
  {
   "cell_type": "code",
   "execution_count": 14,
   "id": "e67378c5",
   "metadata": {},
   "outputs": [
    {
     "name": "stdout",
     "output_type": "stream",
     "text": [
      "Epoch 1/5\n",
      "\u001b[1m1875/1875\u001b[0m \u001b[32m━━━━━━━━━━━━━━━━━━━━\u001b[0m\u001b[37m\u001b[0m \u001b[1m8s\u001b[0m 4ms/step - accuracy: 0.9912 - loss: 0.0280\n",
      "Epoch 2/5\n",
      "\u001b[1m1875/1875\u001b[0m \u001b[32m━━━━━━━━━━━━━━━━━━━━\u001b[0m\u001b[37m\u001b[0m \u001b[1m8s\u001b[0m 4ms/step - accuracy: 0.9927 - loss: 0.0225\n",
      "Epoch 3/5\n",
      "\u001b[1m1875/1875\u001b[0m \u001b[32m━━━━━━━━━━━━━━━━━━━━\u001b[0m\u001b[37m\u001b[0m \u001b[1m8s\u001b[0m 4ms/step - accuracy: 0.9950 - loss: 0.0156\n",
      "Epoch 4/5\n",
      "\u001b[1m1875/1875\u001b[0m \u001b[32m━━━━━━━━━━━━━━━━━━━━\u001b[0m\u001b[37m\u001b[0m \u001b[1m8s\u001b[0m 4ms/step - accuracy: 0.9949 - loss: 0.0153\n",
      "Epoch 5/5\n",
      "\u001b[1m1875/1875\u001b[0m \u001b[32m━━━━━━━━━━━━━━━━━━━━\u001b[0m\u001b[37m\u001b[0m \u001b[1m8s\u001b[0m 4ms/step - accuracy: 0.9955 - loss: 0.0128\n"
     ]
    },
    {
     "data": {
      "text/plain": [
       "<keras.src.callbacks.history.History at 0x192a5257fd0>"
      ]
     },
     "execution_count": 14,
     "metadata": {},
     "output_type": "execute_result"
    }
   ],
   "source": [
    "model.fit(xtrain,ytrain,epochs=5)\n",
    "#can keep any value for epochs but each epoch takes a certain amount of time\n",
    "#fitting the data bit differnt to sklearn\n",
    "#number of ties the training goes on on the training dataset to the model here we train the model for 5times to imporve accuracy"
   ]
  },
  {
   "cell_type": "code",
   "execution_count": 15,
   "id": "10057207",
   "metadata": {},
   "outputs": [
    {
     "name": "stdout",
     "output_type": "stream",
     "text": [
      "\u001b[1m313/313\u001b[0m \u001b[32m━━━━━━━━━━━━━━━━━━━━\u001b[0m\u001b[37m\u001b[0m \u001b[1m1s\u001b[0m 3ms/step - accuracy: 0.9718 - loss: 0.1179\n",
      "0.10915898531675339 0.9747999906539917\n"
     ]
    }
   ],
   "source": [
    "#in each iteration accuracy improves and loss reduces >95 very good model\n",
    "#evaluation of the model based on test data\n",
    "loss,accuracy=model.evaluate(xtest,ytest)\n",
    "print(loss,accuracy)"
   ]
  },
  {
   "cell_type": "code",
   "execution_count": 20,
   "id": "c49ec9ed",
   "metadata": {},
   "outputs": [
    {
     "data": {
      "image/png": "[encoded data removed]",
      "text/plain": [
       "<Figure size 640x480 with 1 Axes>"
      ]
     },
     "metadata": {},
     "output_type": "display_data"
    },
    {
     "name": "stdout",
     "output_type": "stream",
     "text": [
      "9\n"
     ]
    }
   ],
   "source": [
    "import matplotlib.pyplot as plt\n",
    "plt.imshow(xtrain[4],cmap=plt.cm.binary)\n",
    "#cmap-->for colors\n",
    "#to give grayscale image dark background light image or vice versa\n",
    "plt.show()\n",
    "print(ytrain[4])\n",
    "#to see how training data looks like"
   ]
  },
  {
   "cell_type": "code",
   "execution_count": 22,
   "id": "73ff07a0",
   "metadata": {},
   "outputs": [
    {
     "name": "stderr",
     "output_type": "stream",
     "text": [
      "WARNING:absl:You are saving your model as an HDF5 file via `model.save()` or `keras.saving.save_model(model)`. This file format is considered legacy. We recommend using instead the native Keras format, e.g. `model.save('my_model.keras')` or `keras.saving.save_model(model, 'my_model.keras')`. \n"
     ]
    }
   ],
   "source": [
    "#save the model for using in later purposes\n",
    "#h5 extension must be used latest extension\n",
    "model.save('Hand written data prediction.h5')"
   ]
  },
  {
   "cell_type": "code",
   "execution_count": 23,
   "id": "06f0ecb1",
   "metadata": {},
   "outputs": [],
   "source": [
    "model.save('handwritten.keras')"
   ]
  },
  {
   "cell_type": "code",
   "execution_count": 24,
   "id": "33541b20",
   "metadata": {},
   "outputs": [
    {
     "name": "stdout",
     "output_type": "stream",
     "text": [
      "\u001b[1m313/313\u001b[0m \u001b[32m━━━━━━━━━━━━━━━━━━━━\u001b[0m\u001b[37m\u001b[0m \u001b[1m1s\u001b[0m 3ms/step\n"
     ]
    }
   ],
   "source": [
    "#prediction\n",
    "p=model.predict(xtest)"
   ]
  },
  {
   "cell_type": "code",
   "execution_count": 25,
   "id": "2d1bfeba",
   "metadata": {},
   "outputs": [
    {
     "name": "stdout",
     "output_type": "stream",
     "text": [
      "[[4.4925943e-14 6.5777648e-12 4.6405080e-12 ... 9.9999785e-01\n",
      "  1.1392135e-12 4.1902872e-08]\n",
      " [1.6103501e-15 1.8053193e-07 9.9999976e-01 ... 9.0491850e-15\n",
      "  4.2167068e-11 1.2695415e-21]\n",
      " [1.7859351e-12 9.9999976e-01 1.9228677e-08 ... 1.9817543e-08\n",
      "  4.7882157e-08 1.2561878e-13]\n",
      " ...\n",
      " [3.9290746e-15 1.0086389e-11 5.0591058e-13 ... 4.8155977e-09\n",
      "  5.7467146e-11 4.8129482e-07]\n",
      " [1.1136230e-10 4.4532642e-14 9.1996257e-13 ... 7.6349600e-11\n",
      "  3.5876399e-04 1.2395801e-12]\n",
      " [6.6774203e-14 3.2356464e-15 9.4380244e-16 ... 7.2849027e-18\n",
      "  2.6971017e-12 8.4861101e-17]]\n"
     ]
    }
   ],
   "source": [
    "print(p)"
   ]
  },
  {
   "cell_type": "code",
   "execution_count": 26,
   "id": "f73f5f6b",
   "metadata": {},
   "outputs": [
    {
     "name": "stdout",
     "output_type": "stream",
     "text": [
      "7\n"
     ]
    }
   ],
   "source": [
    "import numpy as np\n",
    "#above output not understandable\n",
    "print(np.argmax(p[0]))"
   ]
  },
  {
   "cell_type": "code",
   "execution_count": 27,
   "id": "d08cfd90",
   "metadata": {},
   "outputs": [
    {
     "data": {
      "image/png": "[encoded data removed]",
      "text/plain": [
       "<Figure size 640x480 with 1 Axes>"
      ]
     },
     "metadata": {},
     "output_type": "display_data"
    }
   ],
   "source": [
    "plt.imshow(xtest[0])\n",
    "plt.show()"
   ]
  },
  {
   "cell_type": "code",
   "execution_count": null,
   "id": "97abf0d2",
   "metadata": {},
   "outputs": [],
   "source": []
  },
  {
   "cell_type": "code",
   "execution_count": null,
   "id": "d3887ede",
   "metadata": {},
   "outputs": [],
   "source": []
  },
  {
   "cell_type": "code",
   "execution_count": null,
   "id": "468855d4",
   "metadata": {},
   "outputs": [],
   "source": []
  },
  {
   "cell_type": "code",
   "execution_count": null,
   "id": "fff0f272",
   "metadata": {},
   "outputs": [],
   "source": []
  },
  {
   "cell_type": "code",
   "execution_count": null,
   "id": "4a198a47",
   "metadata": {},
   "outputs": [],
   "source": []
  },
  {
   "cell_type": "code",
   "execution_count": null,
   "id": "3e97483c",
   "metadata": {},
   "outputs": [],
   "source": []
  }
 ],
 "metadata": {
  "kernelspec": {
   "display_name": "Python 3 (ipykernel)",
   "language": "python",
   "name": "python3"
  },
  "language_info": {
   "codemirror_mode": {
    "name": "ipython",
    "version": 3
   },
   "file_extension": ".py",
   "mimetype": "text/x-python",
   "name": "python",
   "nbconvert_exporter": "python",
   "pygments_lexer": "ipython3",
   "version": "3.10.9"
  }
 },
 "nbformat": 4,
 "nbformat_minor": 5
}
